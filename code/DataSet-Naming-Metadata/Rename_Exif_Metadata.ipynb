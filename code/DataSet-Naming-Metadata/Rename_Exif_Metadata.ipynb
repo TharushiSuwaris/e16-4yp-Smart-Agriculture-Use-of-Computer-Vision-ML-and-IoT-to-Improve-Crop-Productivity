{
 "cells": [
  {
   "cell_type": "code",
   "execution_count": 1,
   "id": "17f074b8",
   "metadata": {},
   "outputs": [],
   "source": [
    "########### Simple Script to rename and add exif metadata to list of images ############\n",
    "## avialble metadata classes : https://exif.readthedocs.io/en/latest/api_reference.html"
   ]
  },
  {
   "cell_type": "code",
   "execution_count": null,
   "id": "8539e6a8",
   "metadata": {},
   "outputs": [],
   "source": [
    "# for multiple images, add metadata and rename and save to another folder\n",
    "\n",
    "import os\n",
    "from os import listdir\n",
    "from datetime import datetime\n",
    "from exif import Image\n",
    "\n",
    "folder_dir = os.getcwd()                # images directory\n",
    "save_folder = Path(\"./saveFolder/\")     # save folder  :   These are the disease classes\n",
    "\n",
    "for images in os.listdir(folder_dir): \n",
    "    if ( (images.endswith(\".JPG\")) and not(images.startswith(\"updated\"))):    # for all images in the directory\n",
    "        \n",
    "        with open(images, \"rb\") as file:                                      # open each image with exif Image\n",
    "            image_1 = Image(file)\n",
    "        \n",
    "        now = datetime.now()\n",
    "        dt_string = now.strftime(\"%d_%m_%Y_%H%M\")  # dd_mm_YY_HM\n",
    "        \n",
    "        image_1.datetime_original = dt_string                # set metadata date time\n",
    "                                                             # we can set lot more, description, copyright etc\n",
    "        filename =  dt_string + \"_\" +images\n",
    "        file_to_open = save_folder / filename\n",
    "        \n",
    "        with open(file_to_open, 'wb') as updated_file:       # rename\n",
    "            updated_file.write(image_1.get_file())           # save"
   ]
  },
  {
   "cell_type": "code",
   "execution_count": null,
   "id": "1c7d9456",
   "metadata": {},
   "outputs": [],
   "source": []
  },
  {
   "cell_type": "code",
   "execution_count": null,
   "id": "0ef0d554",
   "metadata": {},
   "outputs": [],
   "source": []
  },
  {
   "cell_type": "code",
   "execution_count": null,
   "id": "d62354b4",
   "metadata": {},
   "outputs": [],
   "source": []
  },
  {
   "cell_type": "code",
   "execution_count": null,
   "id": "cb656a83",
   "metadata": {},
   "outputs": [],
   "source": []
  },
  {
   "cell_type": "code",
   "execution_count": null,
   "id": "81ab9e3e",
   "metadata": {},
   "outputs": [],
   "source": []
  },
  {
   "cell_type": "code",
   "execution_count": null,
   "id": "6f94690a",
   "metadata": {},
   "outputs": [],
   "source": []
  },
  {
   "cell_type": "code",
   "execution_count": null,
   "id": "9badb9d9",
   "metadata": {},
   "outputs": [],
   "source": []
  },
  {
   "cell_type": "code",
   "execution_count": null,
   "id": "cd1f3f3d",
   "metadata": {},
   "outputs": [],
   "source": [
    "# examples"
   ]
  },
  {
   "cell_type": "code",
   "execution_count": 2,
   "id": "4266ddbd",
   "metadata": {},
   "outputs": [],
   "source": [
    "#for single image\n",
    "\n",
    "from datetime import datetime\n",
    "from exif import Image\n",
    "\n",
    "with open(\"00a7c269-3476-4d25-b744-44d6353cd921___GCREC_Bact.Sp 5807.JPG\", \"rb\") as file:\n",
    "    image_1 = Image(file)\n",
    "\n",
    "now = datetime.now()\n",
    "dt_string = now.strftime(\"%d_%m_%Y_%H%M\")  # dd_mm_YY_HM\n",
    "\n",
    "image_1.datetime_original = dt_string\n",
    "\n",
    "with open('updated_a.jpg', 'wb') as updated_file:\n",
    "    updated_file.write(image_1.get_file())"
   ]
  },
  {
   "cell_type": "code",
   "execution_count": null,
   "id": "3bee3171",
   "metadata": {},
   "outputs": [],
   "source": [
    "# for multiple images, add metadata, rename in the same folder\n",
    "\n",
    "import os\n",
    "from os import listdir\n",
    "from datetime import datetime\n",
    "from exif import Image\n",
    "\n",
    "folder_dir = os.getcwd()\n",
    "\n",
    "for images in os.listdir(folder_dir): \n",
    "    if ( (images.endswith(\".JPG\")) and not(images.startswith(\"updated\"))):         # for all images in the cwd\n",
    "        print(images)\n",
    "        with open(images, \"rb\") as file:  # open each with exif Image\n",
    "            image_1 = Image(file)\n",
    "        now = datetime.now()\n",
    "        dt_string = now.strftime(\"%d_%m_%Y_%H%M\")  # dd_mm_YY_HM\n",
    "        image_1.datetime_original = dt_string                           # set metadata date time\n",
    "        with open(dt_string + images, 'wb') as updated_file:            # rename\n",
    "            updated_file.write(image_1.get_file())"
   ]
  },
  {
   "cell_type": "code",
   "execution_count": 27,
   "id": "46a25607",
   "metadata": {},
   "outputs": [],
   "source": [
    "# for saving to different directory single file example\n",
    "import os\n",
    "from datetime import datetime\n",
    "from exif import Image\n",
    "from pathlib import Path\n",
    "\n",
    "save_folder = Path(\"./saveFolder/\")\n",
    "\n",
    "with open(\"00a7c269-3476-4d25-b744-44d6353cd921___GCREC_Bact.Sp 5807.JPG\", \"rb\") as file:\n",
    "    image_1 = Image(file)\n",
    "\n",
    "now = datetime.now()\n",
    "dt_string = now.strftime(\"%d_%m_%Y_%H%M\")  # dd_mm_YY_HM\n",
    "\n",
    "image_1.datetime_original = dt_string\n",
    "\n",
    "filename =  dt_string + \".jpg\"\n",
    "file_to_open = save_folder / filename\n",
    "\n",
    "with open(file_to_open, 'wb') as updated_file:\n",
    "    updated_file.write(image_1.get_file())\n"
   ]
  },
  {
   "cell_type": "code",
   "execution_count": null,
   "id": "d87325b2",
   "metadata": {},
   "outputs": [],
   "source": []
  }
 ],
 "metadata": {
  "kernelspec": {
   "display_name": "Python [conda env:root] *",
   "language": "python",
   "name": "conda-root-py"
  },
  "language_info": {
   "codemirror_mode": {
    "name": "ipython",
    "version": 3
   },
   "file_extension": ".py",
   "mimetype": "text/x-python",
   "name": "python",
   "nbconvert_exporter": "python",
   "pygments_lexer": "ipython3",
   "version": "3.9.12"
  }
 },
 "nbformat": 4,
 "nbformat_minor": 5
}
